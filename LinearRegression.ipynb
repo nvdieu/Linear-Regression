{
 "cells": [
  {
   "cell_type": "code",
   "execution_count": null,
   "metadata": {},
   "outputs": [],
   "source": [
    "import numpy as np\n",
    "import pandas as pd\n",
    "import matplotlib.pyplot as plt\n",
    "from mpl_toolkits.mplot3d import Axes3D\n",
    "from sklearn.model_selection import train_test_split\n",
    "from sklearn.linear_model import LinearRegression"
   ]
  },
  {
   "cell_type": "code",
   "execution_count": null,
   "metadata": {},
   "outputs": [],
   "source": [
    "data1 = pd.read_csv('AgeBloodPressure.csv')"
   ]
  },
  {
   "cell_type": "code",
   "execution_count": null,
   "metadata": {},
   "outputs": [],
   "source": [
    "data1.head()"
   ]
  },
  {
   "cell_type": "code",
   "execution_count": null,
   "metadata": {},
   "outputs": [],
   "source": [
    "data1_X = data1.iloc[:, :-1].values\n",
    "data1_y = data1.iloc[:, 1].values"
   ]
  },
  {
   "cell_type": "code",
   "execution_count": null,
   "metadata": {},
   "outputs": [],
   "source": [
    "plt.scatter(data1_X, data1_y, color = 'red')\n",
    "plt.xlabel('Age')\n",
    "plt.ylabel('Blood Press')\n",
    "plt.ylim(80,230)\n",
    "plt.xlim(10,80)\n",
    "plt.show()"
   ]
  },
  {
   "cell_type": "code",
   "execution_count": null,
   "metadata": {},
   "outputs": [],
   "source": [
    "data1_Xtrain, data1_Xtest, data1_ytrain, data1_ytest = train_test_split(data1_X, data1_y, test_size = 1/3, random_state = 0)\n",
    "\n",
    "LR1 = LinearRegression()\n",
    "\n",
    "LR1.fit(data1_Xtrain, data1_ytrain)\n",
    "\n",
    "plt.plot(data1_X, LR1.predict(data1_X), color = 'blue')\n",
    "\n",
    "plt.scatter(data1_X, data1_y,  marker='o', c='r', edgecolor='b')\n",
    "plt.xlabel('Age')\n",
    "plt.ylabel('Blood Press')\n",
    "plt.ylim(80,230)\n",
    "plt.xlim(10,80)\n",
    "plt.show()"
   ]
  },
  {
   "cell_type": "code",
   "execution_count": null,
   "metadata": {},
   "outputs": [],
   "source": [
    "data2 = pd.read_csv('WeightAgeBloodFat.csv')"
   ]
  },
  {
   "cell_type": "code",
   "execution_count": null,
   "metadata": {},
   "outputs": [],
   "source": [
    "data2_X = data2.iloc[:,:-1]\n",
    "data2_y = data2.iloc[:,2]"
   ]
  },
  {
   "cell_type": "code",
   "execution_count": null,
   "metadata": {},
   "outputs": [],
   "source": [
    "data2_X.head()"
   ]
  },
  {
   "cell_type": "code",
   "execution_count": null,
   "metadata": {},
   "outputs": [],
   "source": [
    "fig = plt.figure()\n",
    "ax = Axes3D(fig)\n",
    "\n",
    "ax.scatter(data2.iloc[:,0], data2.iloc[:,1], data2.iloc[:,2], c='r', marker='o')\n",
    "\n",
    "#plt.title('Age, Weight, Blood Flat Content')\n",
    "\n",
    "ax.set_xlabel('Age')\n",
    "ax.set_ylabel('Weight')\n",
    "ax.set_zlabel('Blood Fat')\n",
    "ax.set_xlim3d(5,65)\n",
    "ax.set_ylim3d(30,100)\n",
    "plt.show()"
   ]
  },
  {
   "cell_type": "code",
   "execution_count": null,
   "metadata": {
    "scrolled": true
   },
   "outputs": [],
   "source": [
    "data2_Xtrain, data2_Xtest, data2_ytrain, data2_ytest = train_test_split(data2_X, data2_y, test_size = 1/3, random_state = 0)\n",
    "\n",
    "LR2 = LinearRegression()\n",
    "LR2.fit(data2_Xtrain, data2_ytrain)\n",
    "\n",
    "fig = plt.figure()\n",
    "ax = Axes3D(fig)\n",
    "\n",
    "ax.plot_trisurf(data2.iloc[:,0], data2.iloc[:,1], LR2.predict(data2_X) , linewidth=0.2, antialiased=True)\n",
    "\n",
    "ax.scatter(data2.iloc[:,0], data2.iloc[:,1], data2.iloc[:,2], c='r', marker='o')\n",
    "\n",
    "plt.title('Age, Weight, Blood Flat Content')\n",
    "\n",
    "\n",
    "ax.set_xlabel('Tuổi')\n",
    "ax.set_ylabel('Cân nặng')\n",
    "ax.set_zlabel('Mỡ máu')\n",
    "ax.set_xlim3d(5,65)\n",
    "ax.set_ylim3d(30,100)\n",
    "plt.show()\n"
   ]
  },
  {
   "cell_type": "code",
   "execution_count": null,
   "metadata": {},
   "outputs": [],
   "source": []
  }
 ],
 "metadata": {
  "kernelspec": {
   "display_name": "Python 3",
   "language": "python",
   "name": "python3"
  },
  "language_info": {
   "codemirror_mode": {
    "name": "ipython",
    "version": 3
   },
   "file_extension": ".py",
   "mimetype": "text/x-python",
   "name": "python",
   "nbconvert_exporter": "python",
   "pygments_lexer": "ipython3",
   "version": "3.6.8"
  }
 },
 "nbformat": 4,
 "nbformat_minor": 2
}
